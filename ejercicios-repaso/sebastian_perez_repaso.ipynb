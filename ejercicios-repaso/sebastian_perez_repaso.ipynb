{
 "cells": [
  {
   "attachments": {},
   "cell_type": "markdown",
   "metadata": {},
   "source": [
    "1) Crear una lista que contenga nombres de ciudades del mundo que contenga más de 5 elementos e imprimir por pantalla"
   ]
  },
  {
   "cell_type": "code",
   "execution_count": 10,
   "metadata": {},
   "outputs": [
    {
     "name": "stdout",
     "output_type": "stream",
     "text": [
      "['Tokio', 'Mexico', 'Nueva York', 'Londres', 'Sidney', 'Estambul', 'Seul', 'Moscu']\n"
     ]
    }
   ],
   "source": [
    "ciudades_mundo = [\"Tokio\",\"Mexico\",\"Nueva York\",\"Londres\",\"Sidney\",\"Estambul\",\"Seul\",\"Moscu\"]\n",
    "print(ciudades_mundo)"
   ]
  },
  {
   "attachments": {},
   "cell_type": "markdown",
   "metadata": {},
   "source": [
    "2) Imprimir por pantalla el segundo elemento de la lista"
   ]
  },
  {
   "cell_type": "code",
   "execution_count": 2,
   "metadata": {},
   "outputs": [
    {
     "name": "stdout",
     "output_type": "stream",
     "text": [
      "Mexico\n"
     ]
    }
   ],
   "source": [
    "print(ciudades_mundo[1])"
   ]
  },
  {
   "attachments": {},
   "cell_type": "markdown",
   "metadata": {},
   "source": [
    "3) Imprimir por pantalla del segundo al cuarto elemento"
   ]
  },
  {
   "cell_type": "code",
   "execution_count": 4,
   "metadata": {},
   "outputs": [
    {
     "name": "stdout",
     "output_type": "stream",
     "text": [
      "['Mexico', 'Nueva York', 'Londres', 'Sidney']\n"
     ]
    }
   ],
   "source": [
    "print(ciudades_mundo[1:5])"
   ]
  },
  {
   "attachments": {},
   "cell_type": "markdown",
   "metadata": {},
   "source": [
    "4) Agregar una ciudad más a la lista que ya exista y otra que no ¿Arroja algún tipo de error?"
   ]
  },
  {
   "cell_type": "code",
   "execution_count": 5,
   "metadata": {},
   "outputs": [],
   "source": [
    "ciudades_mundo.append(\"Tokio\")\n",
    "ciudades_mundo.append(\"Rio de Janeiro\")\n"
   ]
  },
  {
   "attachments": {},
   "cell_type": "markdown",
   "metadata": {},
   "source": [
    "5) Agregar otra ciudad, pero en la cuarta posición"
   ]
  },
  {
   "cell_type": "code",
   "execution_count": 6,
   "metadata": {},
   "outputs": [
    {
     "name": "stdout",
     "output_type": "stream",
     "text": [
      "['Tokio', 'Mexico', 'Nueva York', 'Beijing', 'Londres', 'Sidney', 'Estambul', 'Seul', 'Moscu', 'Tokio', 'Rio de Janeiro']\n"
     ]
    }
   ],
   "source": [
    "ciudades_mundo.insert(3,\"Beijing\")\n",
    "print(ciudades_mundo)"
   ]
  },
  {
   "attachments": {},
   "cell_type": "markdown",
   "metadata": {},
   "source": [
    "6) Concatenar otra lista a la ya creada"
   ]
  },
  {
   "cell_type": "code",
   "execution_count": 7,
   "metadata": {},
   "outputs": [
    {
     "name": "stdout",
     "output_type": "stream",
     "text": [
      "['Tokio', 'Mexico', 'Nueva York', 'Beijing', 'Londres', 'Sidney', 'Estambul', 'Seul', 'Moscu', 'Tokio', 'Rio de Janeiro', 'Paris', 'Los Angeles']\n"
     ]
    }
   ],
   "source": [
    "nuevas_ciudades = [\"Paris\",\"Los Angeles\"]\n",
    "ciudades_mundo.extend(nuevas_ciudades)\n",
    "print(ciudades_mundo)"
   ]
  },
  {
   "attachments": {},
   "cell_type": "markdown",
   "metadata": {},
   "source": [
    "7) Crear una tupla que contenga los números enteros del 1 al 200000\n"
   ]
  },
  {
   "cell_type": "code",
   "execution_count": null,
   "metadata": {},
   "outputs": [],
   "source": [
    "tupla = tuple(range(1,200001))\n",
    "print(tupla)"
   ]
  },
  {
   "attachments": {},
   "cell_type": "markdown",
   "metadata": {},
   "source": [
    "8) Imprimir desde el índice 10 al 15 de la tupla"
   ]
  },
  {
   "cell_type": "code",
   "execution_count": 4,
   "metadata": {},
   "outputs": [
    {
     "name": "stdout",
     "output_type": "stream",
     "text": [
      "11\n",
      "12\n",
      "13\n",
      "14\n",
      "15\n",
      "16\n",
      "(11, 12, 13, 14, 15, 16)\n"
     ]
    }
   ],
   "source": [
    "for numero in range(10,16):\n",
    "    print(tupla[numero])\n",
    "nueva_tupla = tupla[10:16]\n",
    "print(nueva_tupla)"
   ]
  },
  {
   "attachments": {},
   "cell_type": "markdown",
   "metadata": {},
   "source": [
    "9) Desempaquetar solo los primeros 3 elementos de la tupla en 3 variables"
   ]
  },
  {
   "cell_type": "code",
   "execution_count": 8,
   "metadata": {},
   "outputs": [
    {
     "name": "stdout",
     "output_type": "stream",
     "text": [
      "1 2 3\n"
     ]
    }
   ],
   "source": [
    "a,b,c = tupla[0:3]\n",
    "print(a,b,c)"
   ]
  },
  {
   "attachments": {},
   "cell_type": "markdown",
   "metadata": {},
   "source": [
    "10) Crear un diccionario utilizando la lista crada en el punto 1, asignandole la clave \"ciudad\". Agregar tambien otras claves, como puede ser \"Pais\" y \"Continente\"."
   ]
  },
  {
   "cell_type": "code",
   "execution_count": 11,
   "metadata": {},
   "outputs": [
    {
     "name": "stdout",
     "output_type": "stream",
     "text": [
      "{'ciudad': ['Tokio', 'Mexico', 'Nueva York', 'Londres', 'Sidney', 'Estambul', 'Seul', 'Moscu'], 'pais': ['Japon', 'Mexico', 'Estados Unidos', 'Reino Unido', 'Australia', 'Turquia', 'Corea del Sur', 'Rusia', 'Brasil', 'China'], 'continente': ['America', 'Europa', 'Africa', 'Asia', 'Oceania']}\n"
     ]
    }
   ],
   "source": [
    "paises = [\"Japon\",\"Mexico\",\"Estados Unidos\",\"Reino Unido\",\"Australia\",\"Turquia\",\"Corea del Sur\",\"Rusia\",\"Brasil\",\"China\"]\n",
    "continentes= [\"America\",\"Europa\",\"Africa\",\"Asia\",\"Oceania\"]\n",
    "diccionario = {\n",
    "    \"ciudad\": ciudades_mundo,\n",
    "    \"pais\": paises,\n",
    "    \"continente\": continentes\n",
    "}\n",
    "print(diccionario)"
   ]
  },
  {
   "attachments": {},
   "cell_type": "markdown",
   "metadata": {},
   "source": [
    "11) Imprimir las claves del diccionario"
   ]
  },
  {
   "cell_type": "code",
   "execution_count": 12,
   "metadata": {},
   "outputs": [
    {
     "name": "stdout",
     "output_type": "stream",
     "text": [
      "dict_keys(['ciudad', 'pais', 'continente'])\n"
     ]
    }
   ],
   "source": [
    "claves = diccionario.keys()\n",
    "print(claves)"
   ]
  },
  {
   "attachments": {},
   "cell_type": "markdown",
   "metadata": {},
   "source": [
    "12) Imprimir las ciudades a través de su clave"
   ]
  },
  {
   "cell_type": "code",
   "execution_count": 14,
   "metadata": {},
   "outputs": [
    {
     "name": "stdout",
     "output_type": "stream",
     "text": [
      "['Tokio', 'Mexico', 'Nueva York', 'Londres', 'Sidney', 'Estambul', 'Seul', 'Moscu']\n"
     ]
    }
   ],
   "source": [
    "ciudades = diccionario[\"ciudad\"]\n",
    "print(ciudades)"
   ]
  },
  {
   "attachments": {},
   "cell_type": "markdown",
   "metadata": {},
   "source": [
    "13) Crear una variable que contenga un elemento del conjunto de números enteros y luego imprimir por pantalla si es mayor o menor a cero"
   ]
  },
  {
   "cell_type": "code",
   "execution_count": 17,
   "metadata": {},
   "outputs": [
    {
     "name": "stdout",
     "output_type": "stream",
     "text": [
      "Es mayor a 0\n"
     ]
    }
   ],
   "source": [
    "numero = 14\n",
    "mensaje = \"Es mayor a 0\" if numero > 0 else \"Es menor a 0\"\n",
    "print(mensaje)"
   ]
  },
  {
   "attachments": {},
   "cell_type": "markdown",
   "metadata": {},
   "source": [
    "14) Crear dos variables y un condicional que informe si son del mismo tipo de dato"
   ]
  },
  {
   "cell_type": "code",
   "execution_count": 18,
   "metadata": {},
   "outputs": [
    {
     "name": "stdout",
     "output_type": "stream",
     "text": [
      "False\n"
     ]
    }
   ],
   "source": [
    "variable_entera = 14\n",
    "variable_texto = \"texto\"\n",
    "son_mismo_tipo = type(variable_entera) == type(variable_texto)\n",
    "print(son_mismo_tipo)"
   ]
  },
  {
   "attachments": {},
   "cell_type": "markdown",
   "metadata": {},
   "source": [
    "15) Para los valores enteros del 1 al 20, imprimir por pantalla si es par o impar"
   ]
  },
  {
   "cell_type": "code",
   "execution_count": 20,
   "metadata": {},
   "outputs": [
    {
     "name": "stdout",
     "output_type": "stream",
     "text": [
      "1 es impar\n",
      "2 es par\n",
      "3 es impar\n",
      "4 es par\n",
      "5 es impar\n",
      "6 es par\n",
      "7 es impar\n",
      "8 es par\n",
      "9 es impar\n",
      "10 es par\n",
      "11 es impar\n",
      "12 es par\n",
      "13 es impar\n",
      "14 es par\n",
      "15 es impar\n",
      "16 es par\n",
      "17 es impar\n",
      "18 es par\n",
      "19 es impar\n",
      "20 es par\n"
     ]
    }
   ],
   "source": [
    "for numero in range(1,21):\n",
    "    mensaje = str(numero) + \" es par\" if numero % 2 == 0 else str(numero) + \" es impar\"\n",
    "    print(mensaje)\n",
    "    "
   ]
  },
  {
   "attachments": {},
   "cell_type": "markdown",
   "metadata": {},
   "source": [
    "16) En un ciclo for mostrar para los valores entre 0 y 5 el resultado de elevarlo a la potencia igual a 3"
   ]
  },
  {
   "cell_type": "code",
   "execution_count": 21,
   "metadata": {},
   "outputs": [
    {
     "name": "stdout",
     "output_type": "stream",
     "text": [
      "La potencia de 0 es 0\n",
      "La potencia de 1 es 1\n",
      "La potencia de 2 es 8\n",
      "La potencia de 3 es 27\n",
      "La potencia de 4 es 64\n",
      "La potencia de 5 es 125\n"
     ]
    }
   ],
   "source": [
    "for numero in range(0,6):\n",
    "    potencia = numero ** 3\n",
    "    mensaje = f\"La potencia de {numero} es {potencia}\"\n",
    "    print(mensaje)"
   ]
  },
  {
   "attachments": {},
   "cell_type": "markdown",
   "metadata": {},
   "source": [
    "17) Crear una variable que contenga un número entero y realizar un ciclo for la misma cantidad de ciclos"
   ]
  },
  {
   "cell_type": "code",
   "execution_count": 25,
   "metadata": {},
   "outputs": [
    {
     "name": "stdout",
     "output_type": "stream",
     "text": [
      "numero de ciclo: 1\n",
      "numero de ciclo: 2\n",
      "numero de ciclo: 3\n",
      "numero de ciclo: 4\n",
      "numero de ciclo: 5\n"
     ]
    }
   ],
   "source": [
    "cantidad_ciclos = 5\n",
    "for numero in range(cantidad_ciclos):\n",
    "    print(\"numero de ciclo: \" + str(numero+1))"
   ]
  },
  {
   "attachments": {},
   "cell_type": "markdown",
   "metadata": {},
   "source": [
    "18) Utilizar un ciclo while para realizar el factorial de un número guardado en una variable, sólo si la variable contiene un número entero mayor a 0"
   ]
  },
  {
   "cell_type": "code",
   "execution_count": 30,
   "metadata": {},
   "outputs": [
    {
     "name": "stdout",
     "output_type": "stream",
     "text": [
      "El factorial de 5 es 120\n"
     ]
    }
   ],
   "source": [
    "numero = 5\n",
    "contador = 0\n",
    "factorial = 1\n",
    "while numero > 0 and contador < numero:\n",
    "    contador += 1\n",
    "    factorial = factorial * contador\n",
    "mensaje = f\"El factorial de {numero} es {factorial}\" if numero > 0 else \"No es mayor a 0\"\n",
    "print(mensaje)"
   ]
  },
  {
   "attachments": {},
   "cell_type": "markdown",
   "metadata": {},
   "source": [
    "19) Aplicando continue, armar un ciclo while que solo imprima los valores divisibles por 12, dentro del rango de números de 100 a 300"
   ]
  },
  {
   "cell_type": "code",
   "execution_count": 33,
   "metadata": {},
   "outputs": [
    {
     "name": "stdout",
     "output_type": "stream",
     "text": [
      "108\n",
      "120\n",
      "132\n",
      "144\n",
      "156\n",
      "168\n",
      "180\n",
      "192\n",
      "204\n",
      "216\n",
      "228\n",
      "240\n",
      "252\n",
      "264\n",
      "276\n",
      "288\n",
      "300\n"
     ]
    }
   ],
   "source": [
    "numero = 99\n",
    "while numero < 300:\n",
    "    numero += 1\n",
    "    if numero%12 != 0:\n",
    "        continue\n",
    "    print(numero)"
   ]
  },
  {
   "attachments": {},
   "cell_type": "markdown",
   "metadata": {},
   "source": [
    "20) Crear un ciclo while que encuentre dentro del rango de 100 a 300 el primer número divisible por 3 y además múltiplo de 6"
   ]
  },
  {
   "cell_type": "code",
   "execution_count": 35,
   "metadata": {},
   "outputs": [
    {
     "name": "stdout",
     "output_type": "stream",
     "text": [
      "102\n"
     ]
    }
   ],
   "source": [
    "numero = 99\n",
    "while numero < 300:\n",
    "    numero +=1\n",
    "    if numero%3 == 0 and numero%6 == 0:\n",
    "        print(numero)\n",
    "        break   "
   ]
  },
  {
   "attachments": {},
   "cell_type": "markdown",
   "metadata": {},
   "source": [
    "21) A partir de la variable cadena ya dada, mostrar en qué posiciones aparece la letra \"n\" **cadena** = 'Hola Mundo. Esto es una practica del lenguaje de programación Python'"
   ]
  },
  {
   "cell_type": "code",
   "execution_count": 36,
   "metadata": {},
   "outputs": [
    {
     "name": "stdout",
     "output_type": "stream",
     "text": [
      "Esta en la posicion: 7\n"
     ]
    }
   ],
   "source": [
    "cadena = \"hola mundo\"\n",
    "posicion = cadena.find(\"n\")\n",
    "print(f\"Esta en la posicion: {posicion}\")"
   ]
  },
  {
   "attachments": {},
   "cell_type": "markdown",
   "metadata": {},
   "source": [
    "22) Convertir en una lista la variable \"cadena\" del punto anterior y luego recorrerla con un iterador"
   ]
  },
  {
   "cell_type": "code",
   "execution_count": 41,
   "metadata": {},
   "outputs": [
    {
     "name": "stdout",
     "output_type": "stream",
     "text": [
      "['c', 'a', 'd', 'e', 'n', 'a']\n"
     ]
    }
   ],
   "source": [
    "cadena = \"cadena\"\n",
    "lista = list(cadena)\n",
    "print(lista)"
   ]
  }
 ],
 "metadata": {
  "kernelspec": {
   "display_name": "base",
   "language": "python",
   "name": "python3"
  },
  "language_info": {
   "codemirror_mode": {
    "name": "ipython",
    "version": 3
   },
   "file_extension": ".py",
   "mimetype": "text/x-python",
   "name": "python",
   "nbconvert_exporter": "python",
   "pygments_lexer": "ipython3",
   "version": "3.10.9"
  },
  "orig_nbformat": 4
 },
 "nbformat": 4,
 "nbformat_minor": 2
}
