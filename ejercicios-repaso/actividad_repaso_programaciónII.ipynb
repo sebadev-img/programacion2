{
 "cells": [
  {
   "attachments": {},
   "cell_type": "markdown",
   "metadata": {},
   "source": [
    "# Ejercicios repaso primera 5 clases \n",
    "+ Variables\n",
    "+ Tipo de datos (simples y complejos)\n",
    "+ Estructuras de control (condicionales y bucles)\n",
    "\n",
    "**Importante:** La actividad se debe realizar en un archivo de Jupyter Notebook con extensión *.ipynb. Al finalizar los ejercicios deberá guardarse con el nombre [nombre_apellido_repaso.ipynb], ejemplo: \"**gonzalo_pimentel_repaso.ipynb**\". Luego de guardado el archivo, se puede adjuntar en el campus o compartir el link del repositorio en  [GitHub](https://github.com/ \"GitHub\")."
   ]
  },
  {
   "attachments": {},
   "cell_type": "markdown",
   "metadata": {},
   "source": [
    "### Actividades a resolver ###\n",
    "1) Crear una lista que contenga nombres de ciudades del mundo que contenga más de 5 elementos e imprimir por pantalla\n",
    "\n",
    "2) Imprimir por pantalla el segundo elemento de la lista\n",
    "\n",
    "3) Imprimir por pantalla del segundo al cuarto elemento\n",
    "\n",
    "4) Agregar una ciudad más a la lista que ya exista y otra que no ¿Arroja algún tipo de error?\n",
    "\n",
    "5) Agregar otra ciudad, pero en la cuarta posición\n",
    "\n",
    "6) Concatenar otra lista a la ya creada\n",
    "\n",
    "7) Crear una tupla que contenga los números enteros del 1 al 20\n",
    "\n",
    "8) Imprimir desde el índice 10 al 15 de la tupla\n",
    "\n",
    "9) Desempaquetar solo los primeros 3 elementos de la tupla en 3 variables\n",
    "\n",
    "10) Crear un diccionario utilizando la lista crada en el punto 1, asignandole la clave \"ciudad\". Agregar tambien otras claves, como puede ser \"Pais\" y \"Continente\".\n",
    "\n",
    "11) Imprimir las claves del diccionario\n",
    "\n",
    "12) Imprimir las ciudades a través de su clave\n",
    "\n",
    "13) Crear una variable que contenga un elemento del conjunto de números enteros y luego imprimir por pantalla si es mayor o menor a cero\n",
    "\n",
    "14) Crear dos variables y un condicional que informe si son del mismo tipo de dato\n",
    "\n",
    "15) Para los valores enteros del 1 al 20, imprimir por pantalla si es par o impar\n",
    "\n",
    "16) En un ciclo for mostrar para los valores entre 0 y 5 el resultado de elevarlo a la potencia igual a 3\n",
    "\n",
    "17) Crear una variable que contenga un número entero y realizar un ciclo for la misma cantidad de ciclos\n",
    "\n",
    "18) Utilizar un ciclo while para realizar el factorial de un número guardado en una variable, sólo si la variable contiene un número entero mayor a 0\n",
    "\n",
    "19) Aplicando continue, armar un ciclo while que solo imprima los valores divisibles por 12, dentro del rango de números de 100 a 300\n",
    "\n",
    "20) Crear un ciclo while que encuentre dentro del rango de 100 a 300 el primer número divisible por 3 y además múltiplo de 6\n",
    "\n",
    "21) A partir de la variable cadena ya dada, mostrar en qué posiciones aparece la letra \"n\" **cadena** = 'Hola Mundo. Esto es una practica del lenguaje de programación Python'\n",
    "\n",
    "22) Convertir en una lista la variable \"cadena\" del punto anterior y luego recorrerla con un iterador\n"
   ]
  }
 ],
 "metadata": {
  "language_info": {
   "name": "python"
  },
  "orig_nbformat": 4
 },
 "nbformat": 4,
 "nbformat_minor": 2
}
